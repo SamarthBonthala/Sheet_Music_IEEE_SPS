{
 "cells": [
  {
   "cell_type": "code",
   "execution_count": 69,
   "metadata": {},
   "outputs": [],
   "source": [
    "import numpy as np\n",
    "\n",
    "def y_sum(img,y_origin,top, diff_staff):\n",
    "    temp = (y_origin+np.argmax(np.sum(img,axis=1)))\n",
    "    #print('sum', np.sum(img,axis=1))\n",
    "    #print('amax', np.amax(np.sum(img,axis=1)), 'arg', np.argmax(np.sum(img,axis=1)))\n",
    "    a = np.argmin(np.abs(top - temp))\n",
    "    if(a%2 == 0):\n",
    "        flag = 1 #Treble\n",
    "    else:\n",
    "        flag = 0 #Bass\n",
    "    diff = (temp - top[a])/diff_staff[a]\n",
    "    \n",
    "    diff = (np.round(diff))\n",
    "    \n",
    "    if(diff == 0):\n",
    "        return ('F4')\n",
    "    elif (diff == 1):\n",
    "        return ('E4')\n",
    "    elif(diff == 2):\n",
    "        return ('D4')\n",
    "    elif(diff == 3):\n",
    "        return('C4')\n",
    "    elif(diff == 4):\n",
    "        return('B4')\n",
    "    elif(diff == 5):\n",
    "        return('A4')\n",
    "    elif(diff == 6):\n",
    "        return('G3')\n",
    "    elif(diff == 7):\n",
    "        return('F3')\n",
    "    elif(diff == 8):\n",
    "        return('E3')\n",
    "    elif(diff == 9):\n",
    "        return('D3')\n",
    "    elif(diff == 10):\n",
    "        return('C3')\n",
    "    \n",
    "    \n",
    "    #print('diff',diff)\n",
    "    #return(diff)\n",
    "    "
   ]
  },
  {
   "cell_type": "code",
   "execution_count": 73,
   "metadata": {},
   "outputs": [
    {
     "name": "stdout",
     "output_type": "stream",
     "text": [
      "ret2 160.0\n"
     ]
    },
    {
     "data": {
      "image/png": "[encoded data removed]",
      "text/plain": [
       "<Figure size 432x288 with 1 Axes>"
      ]
     },
     "metadata": {},
     "output_type": "display_data"
    },
    {
     "name": "stdout",
     "output_type": "stream",
     "text": [
      "(array([ 83,  92, 304, 463, 464, 623, 770, 771, 930], dtype=int64),)\n",
      "[[  9 212 159   1 159 147   1 159]]\n",
      "[  1   9 212 159   1 159 147   1 159]\n",
      "measures [ 92 304 463 623 770 930]\n",
      "E3\n",
      "E3\n",
      "E3\n",
      "G3\n",
      "G3\n",
      "E3\n",
      "E3\n",
      "D3\n",
      "C3\n",
      "C3\n",
      "D3\n",
      "E3\n",
      "E3\n",
      "D3\n",
      "E3\n",
      "E3\n",
      "E3\n",
      "E3\n",
      "G3\n"
     ]
    }
   ],
   "source": [
    "import cv2\n",
    "import numpy as np\n",
    "import csv\n",
    "import matplotlib.pyplot as plt\n",
    "import os\n",
    "\n",
    "img = cv2.imread('ode_to_joy.jpg',0)\n",
    "\n",
    "img_color = cv2.imread('ode_to_joy.jpg',1)\n",
    "\n",
    "height, width = img.shape[:2]\n",
    "path = 'E:/NITK/Projects/Optical Music Recogniton/'\n",
    "\n",
    "\"\"\"Resizing image\"\"\"\n",
    "#img_res = img;\n",
    "img_res = cv2.resize(img,(int(0.5*width), int(0.5*height)))#, interpolation = cv.INTER_CUBIC)\n",
    "img_color = cv2.resize(img_color,(int(0.5*width), int(0.5*height)))#, interpolation = cv.INTER_CUBIC)\n",
    "\n",
    "#cv2.imshow('img_resize', img_res)\n",
    "\"\"\"Otsu Binarisation\"\"\"\n",
    "ret2,th2 = cv2.threshold(img_res,0,255,cv2.THRESH_BINARY+cv2.THRESH_OTSU)\n",
    "print('ret2', ret2)\n",
    "#cv2.imshow('thresh', th2)\n",
    "\n",
    "\"\"\"Canny Edge Detection\"\"\"\n",
    "edges = cv2.Canny(th2,50,150,apertureSize = 3)\n",
    "\n",
    "\"\"\"Erosion - to get only the horizontal lines\n",
    "    Subtract erosion from edges to remove the staff lines\"\"\"\n",
    "kernel = np.ones((1,5), np.uint8)\n",
    "\n",
    "erosion = cv2.erode(edges, kernel, iterations = 1)\n",
    "erosion_copy = erosion\n",
    "\n",
    "#cv2.imshow('erosion', erosion)\n",
    "\n",
    "result = cv2.subtract(edges, erosion)\n",
    "#cv2.imshow('result', result)\n",
    "\n",
    "\"\"\"To find the y-values of staff lines\"\"\"\n",
    "sum_rows = np.sum(erosion, axis=1)\n",
    "max_sum = np.amax(sum_rows)\n",
    "\n",
    "ind = np.where(sum_rows > 0.7 * max_sum)\n",
    "new_ind = ind[0][::2] + 1  ## contains y-values of staff lines\n",
    "\n",
    "top_staff = new_ind[0::5]\n",
    "bot_staff = new_ind[4::5]\n",
    "\n",
    "diff_staff = (bot_staff - top_staff)/8\n",
    "#flags=1 =>treble\n",
    "flags = np.zeros(len(new_ind))\n",
    "for i in range(len(new_ind)):\n",
    "    if(i%10<5):\n",
    "        flags[i] =1\n",
    "\n",
    "\n",
    "\n",
    "ref_ind = new_ind[::5] ## Reference value for each set of 5 staff lines\n",
    "ref_ind2 = new_ind[4::5]\n",
    "bw = cv2.bitwise_not(th2)\n",
    "horizontal = bw.copy()\n",
    "vertical = bw.copy()\n",
    "cv2.waitKey(0)\n",
    "cv2.destroyAllWindows()\n",
    "\n",
    "    #Staff line thickness\n",
    "from collections import Counter\n",
    "ind = ind[0][:]\n",
    "a = [x - ind[i-1] for i,x in enumerate(ind)][1:]\n",
    "data = Counter(a)\n",
    "b = data.most_common(1)\n",
    "slt = b[0][0] #slt is staff line thickness\n",
    "    #slt\n",
    "\n",
    "    #Removing the horizontal lines\n",
    "kernel_v = np.ones((2*slt,1),dtype = np.uint8)\n",
    "bw_erode1 = cv2.erode(vertical,kernel_v,iterations = 1)\n",
    "bw_dilate1 = cv2.dilate(bw_erode1,kernel_v,iterations = 1)\n",
    "#cv2.imshow('bw_dilate',bw_dilate1)\n",
    " \n",
    "\n",
    "vertical_not = cv2.bitwise_not(bw_dilate1) #vertical\n",
    "#cv2.imshow('not',vertical_not)\n",
    "#cv2.imshow('bw_dilate',bw_dilate1)\n",
    "smooth = vertical_not.copy()\n",
    "blur1 = cv2.filter2D(smooth,-1,(np.ones((2,1),np.float32)/2))\n",
    "#cv2.imwrite('C:/Users/Sahith/Desktop/IEEE Sheet Vision/staff_removal.jpg',blur1)\n",
    "#cv2.imshow('a',blur1)\n",
    "#cv2.waitKey(0)\n",
    "#cv2.destroyAllWindows()    \n",
    "\n",
    "final_image1 = ~blur1\n",
    "final_image = final_image1 + result\n",
    "\n",
    "#cv2.imshow('a',result)\n",
    "\n",
    "#cv2.imshow('b',final_image)\n",
    "#cv2.waitKey(0)\n",
    "#cv2.destroyAllWindows() \n",
    "######################################\n",
    "########### New code : ##############\n",
    "####################################\n",
    "\n",
    "# Projecting on y\n",
    "count = np.zeros(960)\n",
    "\n",
    "for i in range(55,125):\n",
    "    for j in range(960):\n",
    "        #if(result2[i][j]==255):\n",
    "        if(blur1[i][j]==0):\n",
    "            count[j]=count[j]+1\n",
    "\n",
    "#cv2.imshow('result2', result2)\n",
    "\n",
    "\"\"\"count2 = np.zeros(225-125) \n",
    "\n",
    "for i in range(125,225):\n",
    "    for j in range(624,659):\n",
    "        if(result2[i][j]==0):\n",
    "            count2[i-125] = count2[i-125] + 1\"\"\"\n",
    "\n",
    "########################################\n",
    "## Template Matching to detect clefs\n",
    "\n",
    "img_tm = img_res.copy()\n",
    "template = cv2.imread('template_G_Clef.png',0)\n",
    "h,w = template.shape[:2]\n",
    "\n",
    "template1 = cv2.imread('template_F_Clef.png',0)\n",
    "h1,w1 = template1.shape[:2]\n",
    "\n",
    "template2 = cv2.imread('template44.png',0)\n",
    "h2,w2 = template2.shape[:2]\n",
    "\n",
    "res = cv2.matchTemplate(img_res,template,cv2.TM_CCOEFF_NORMED)\n",
    "threshold1 = 0.6\n",
    "threshold2 = 0.55\n",
    "threshold3 = 0.5\n",
    "loc_G_Clef = np.where( res >= threshold2)\n",
    "\n",
    "\n",
    "\n",
    "for pt in zip(*loc_G_Clef[::-1]):\n",
    "    cv2.rectangle(img_color, pt, (pt[0] + w, pt[1] + h), [100,10,55])\n",
    "    \n",
    "    \n",
    "    \n",
    "\n",
    "res1 = cv2.matchTemplate(img_res,template1,cv2.TM_CCOEFF_NORMED)\n",
    "loc_F_Clef = np.where( res1 >= threshold3)\n",
    "for pt in zip(*loc_F_Clef[::-1]):\n",
    "    cv2.rectangle(img_color, pt, (pt[0]+w1, pt[1]+h1 ), [20,20,255])\n",
    "\n",
    "    \n",
    "    \n",
    "    \n",
    "\n",
    "origin_var = 0\n",
    "res2 = cv2.matchTemplate(img_res,template2,cv2.TM_CCOEFF_NORMED)\n",
    "loc_44 = np.where( res2 >= threshold1)\n",
    "for pt in zip(*loc_44[::-1]):\n",
    "    cv2.rectangle(img_color, pt, (pt[0]+w2, pt[1]+ h2 ), [0,0,255])\n",
    "    origin_var = max(origin_var, pt[0]+w2)\n",
    "    \n",
    "#cv2.imshow('result',img_color)\n",
    "#cv2.waitKey(0)\n",
    "#cv2.destroyAllWindows()\n",
    "\n",
    "########################################\n",
    "plt.plot(count)\n",
    "plt.show()\n",
    "\n",
    "measures1 = np.where(count>40)\n",
    "print(measures1)\n",
    "meas_diff1 = np.diff(measures1)\n",
    "print(meas_diff1)\n",
    "meas_diff = np.insert(meas_diff1[0], 0, 1) \n",
    "print(meas_diff)\n",
    "\n",
    "measures = np.delete(measures1, np.where(meas_diff < width/300))\n",
    "print('measures',measures)\n",
    "\n",
    "for i2 in np.arange(0,len(measures)-1):\n",
    "    if(i2 == 0):\n",
    "        origin_measure = origin_var\n",
    "    else:\n",
    "        origin_measure = measures[i2]+5\n",
    "    end_measure = measures[i2+1] - 5\n",
    "    #CHANGE THE index based on iteration\n",
    "    seg_y_top = int(np.round(top_staff[0] - 2* diff_staff[0]))\n",
    "    seg_y_bottom = int(np.round(bot_staff[0] + 6* diff_staff[0]))\n",
    "    ###########\n",
    "    img_seg_meas = final_image[seg_y_top:seg_y_bottom, origin_measure:end_measure]\n",
    "    #cv2.imshow('segmented',img_seg_meas)\n",
    "\n",
    "    # Extract the individual components in each measure\n",
    "    #print('notespos',note_pos)\n",
    "\n",
    "    height_seg,width_seg = np.shape(img_seg_meas)\n",
    "    seg_count = np.zeros(width_seg)\n",
    "    for i in range(height_seg):\n",
    "        for j in range(width_seg):\n",
    "            #if(result2[i][j]==255):\n",
    "            if(img_seg_meas[i][j]==255):\n",
    "                seg_count[j]=seg_count[j]+1\n",
    "\n",
    "    #plt.plot(seg_count)\n",
    "    #plt.show()\n",
    "\n",
    "    #smoothen a little\n",
    "\n",
    "    seg_count_result = np.convolve(seg_count,np.ones(5),mode = 'same')\n",
    "\n",
    "    #print(\"Seg Count Res\")\n",
    "    #print(seg_count_result)\n",
    "    #plt.plot(seg_count_result)\n",
    "    #plt.show()\n",
    "\n",
    "    #set threshold to find gaps\n",
    "    seg_count_positions = np.zeros(width_seg)\n",
    "    #print(width_seg)\n",
    "    for i in range(width_seg):\n",
    "        if(seg_count_result[i]>5):  #give 3 as threshold\n",
    "            seg_count_positions[i] = 1\n",
    "\n",
    "    #plt.plot(seg_count_positions)\n",
    "    #plt.show()\n",
    "\n",
    "    start_end_pos = np.where(np.abs(np.diff(seg_count_positions))>0)\n",
    "\n",
    "\n",
    "    \n",
    "\n",
    "    file_name = \"Hu_results.csv\"\n",
    "\n",
    "    seg_positions_final = origin_measure + start_end_pos\n",
    "    hu_result = np.zeros(7);\n",
    "    for i1 in np.arange(0,len(seg_positions_final[0]), 2):\n",
    "        img_seg = (final_image[seg_y_top:seg_y_bottom, seg_positions_final[0][i1]:seg_positions_final[0][i1+1]])\n",
    "        hu_result = cv2.HuMoments(cv2.moments(img_seg)).flatten()\n",
    "\n",
    "\n",
    "        features = list(hu_result)\n",
    "        #print(type(features))\n",
    "        \n",
    "        \"\"\"if not((os.path.exists(path+file_name))):\n",
    "            with open(path+file_name, 'w') as writeFile:\n",
    "                writer = csv.writer(writeFile)\n",
    "                writer.writerow(features)\n",
    "        else:\n",
    "            with open(path+file_name, 'a') as writeFile:\n",
    "                writer = csv.writer(writeFile)\n",
    "                writer.writerow(features)\n",
    "\"\"\"\n",
    "        x = y_sum(img_seg, seg_y_top, top_staff, diff_staff)\n",
    "        print(x)\n",
    "\n",
    "        #cv2.imshow('seg',img_seg)\n",
    "        #cv2.waitKey(0)\n",
    "        #cv2.destroyAllWindows()\n",
    "\n",
    "\n",
    "\"\"\"\"\"\"\n",
    "\n",
    "#cv2.imwrite('erosion.jpg', erosion)\n",
    "#cv2.imwrite('edges.jpg', edges)\n",
    "#cv2.imwrite('result.jpg', result)\n",
    "\n",
    "min_line_len = 100\n",
    "max_line_gap = 20\n",
    "\n",
    "cv2.waitKey(0)\n",
    "cv2.destroyAllWindows()"
   ]
  },
  {
   "cell_type": "code",
   "execution_count": 48,
   "metadata": {},
   "outputs": [
    {
     "data": {
      "text/plain": [
       "6.0"
      ]
     },
     "execution_count": 48,
     "metadata": {},
     "output_type": "execute_result"
    }
   ],
   "source": [
    "y_sum(img_seg, seg_y_top, top_staff, diff_staff )"
   ]
  },
  {
   "cell_type": "code",
   "execution_count": 72,
   "metadata": {},
   "outputs": [
    {
     "data": {
      "text/plain": [
       "True"
      ]
     },
     "execution_count": 72,
     "metadata": {},
     "output_type": "execute_result"
    }
   ],
   "source": [
    "cv2.imwrite(path+'img_boxes.png',img_color)"
   ]
  },
  {
   "cell_type": "code",
   "execution_count": 33,
   "metadata": {},
   "outputs": [
    {
     "data": {
      "text/plain": [
       "array([ 64, 157, 352, 446], dtype=int64)"
      ]
     },
     "execution_count": 33,
     "metadata": {},
     "output_type": "execute_result"
    }
   ],
   "source": [
    "top_staff\n"
   ]
  },
  {
   "cell_type": "code",
   "execution_count": 36,
   "metadata": {},
   "outputs": [
    {
     "data": {
      "text/plain": [
       "array([ 97, 190, 386, 479], dtype=int64)"
      ]
     },
     "execution_count": 36,
     "metadata": {},
     "output_type": "execute_result"
    }
   ],
   "source": [
    "bot_staff"
   ]
  },
  {
   "cell_type": "code",
   "execution_count": 39,
   "metadata": {},
   "outputs": [
    {
     "data": {
      "text/plain": [
       "array([4.125, 4.125, 4.25 , 4.125])"
      ]
     },
     "execution_count": 39,
     "metadata": {},
     "output_type": "execute_result"
    }
   ],
   "source": [
    "diff_staff"
   ]
  },
  {
   "cell_type": "code",
   "execution_count": 17,
   "metadata": {},
   "outputs": [],
   "source": [
    "final_ind = [new_ind,np.zeros(len(new_ind))]"
   ]
  },
  {
   "cell_type": "code",
   "execution_count": 59,
   "metadata": {},
   "outputs": [
    {
     "data": {
      "text/plain": [
       "array([127, 161, 177, 314, 330, 364, 380, 707, 738, 757, 892, 908, 942,\n",
       "       958], dtype=int64)"
      ]
     },
     "execution_count": 59,
     "metadata": {},
     "output_type": "execute_result"
    }
   ],
   "source": [
    "new_ind"
   ]
  },
  {
   "cell_type": "code",
   "execution_count": 27,
   "metadata": {},
   "outputs": [
    {
     "data": {
      "text/plain": [
       "array([  8,   8,   9,   8,  60,   8,   8,   9,   8, 162,   9,   8,   8,\n",
       "         9,  60,   8,   8,   9,   8], dtype=int64)"
      ]
     },
     "execution_count": 27,
     "metadata": {},
     "output_type": "execute_result"
    }
   ],
   "source": [
    "np.diff(new_ind)"
   ]
  },
  {
   "cell_type": "code",
   "execution_count": 28,
   "metadata": {},
   "outputs": [
    {
     "data": {
      "text/plain": [
       "4.125"
      ]
     },
     "execution_count": 28,
     "metadata": {},
     "output_type": "execute_result"
    }
   ],
   "source": []
  },
  {
   "cell_type": "code",
   "execution_count": null,
   "metadata": {},
   "outputs": [],
   "source": []
  }
 ],
 "metadata": {
  "kernelspec": {
   "display_name": "Python 3",
   "language": "python",
   "name": "python3"
  },
  "language_info": {
   "codemirror_mode": {
    "name": "ipython",
    "version": 3
   },
   "file_extension": ".py",
   "mimetype": "text/x-python",
   "name": "python",
   "nbconvert_exporter": "python",
   "pygments_lexer": "ipython3",
   "version": "3.5.5"
  }
 },
 "nbformat": 4,
 "nbformat_minor": 2
}
