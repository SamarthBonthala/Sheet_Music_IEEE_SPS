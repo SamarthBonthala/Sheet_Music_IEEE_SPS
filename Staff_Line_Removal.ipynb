{
 "cells": [
  {
   "cell_type": "code",
   "execution_count": 7,
   "metadata": {},
   "outputs": [
    {
     "name": "stdout",
     "output_type": "stream",
     "text": [
      "ret2 160.0\n"
     ]
    }
   ],
   "source": [
    "import cv2\n",
    "import numpy as np\n",
    "\n",
    "img = cv2.imread('E:\\Admin\\Desktop\\ode_to_joy.jpg',0)\n",
    "height, width = img.shape[:2]\n",
    "\n",
    "\"\"\"Resizing image\"\"\"\n",
    "img_res = cv2.resize(img,(int(0.5*width), int(0.5*height)))#, interpolation = cv.INTER_CUBIC)\n",
    "\n",
    "\n",
    "#cv2.imshow('img_resize', img_res)\n",
    "\"\"\"Otsu Binarisation\"\"\"\n",
    "ret2,th2 = cv2.threshold(img_res,0,255,cv2.THRESH_BINARY+cv2.THRESH_OTSU)\n",
    "print('ret2', ret2)\n",
    "#cv2.imshow('thresh', th2)\n",
    "\n",
    "\"\"\"Canny Edge Detection\"\"\"\n",
    "edges = cv2.Canny(th2,50,150,apertureSize = 3)\n",
    "\n",
    "\"\"\"Erosion - to get only the horizontal lines\n",
    "    Subtract erosion from edges to remove the staff lines\"\"\"\n",
    "kernel = np.ones((1,5), np.uint8)\n",
    "\n",
    "erosion = cv2.erode(edges, kernel, iterations = 1)\n",
    "cv2.imshow('erosion', erosion)\n",
    "\n",
    "result = edges - erosion\n",
    "cv2.imshow('result', result)\n",
    "\n",
    "\n",
    "min_line_len = 100\n",
    "max_line_gap = 20\n",
    "\n",
    "#lines = cv2.HoughLinesP(edges,1,np.pi/180,100,minLineLength,maxLineGap)\n",
    "\n",
    "cv2.imshow('edges', edges)\n",
    "#cv2.imshow('img', img)\n",
    "cv2.waitKey(0)\n",
    "cv2.destroyAllWindows()"
   ]
  },
  {
   "cell_type": "code",
   "execution_count": null,
   "metadata": {},
   "outputs": [],
   "source": []
  },
  {
   "cell_type": "code",
   "execution_count": null,
   "metadata": {},
   "outputs": [],
   "source": []
  }
 ],
 "metadata": {
  "kernelspec": {
   "display_name": "Python 3",
   "language": "python",
   "name": "python3"
  },
  "language_info": {
   "codemirror_mode": {
    "name": "ipython",
    "version": 3
   },
   "file_extension": ".py",
   "mimetype": "text/x-python",
   "name": "python",
   "nbconvert_exporter": "python",
   "pygments_lexer": "ipython3",
   "version": "3.5.5"
  }
 },
 "nbformat": 4,
 "nbformat_minor": 2
}
