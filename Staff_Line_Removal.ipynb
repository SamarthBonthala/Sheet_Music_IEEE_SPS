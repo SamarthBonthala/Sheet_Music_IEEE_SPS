{
 "cells": [
  {
   "cell_type": "code",
   "execution_count": 31,
   "metadata": {},
   "outputs": [
    {
     "name": "stdout",
     "output_type": "stream",
     "text": [
      "ret2 160.0\n",
      "[ 64  72  80  89  97 157 165 173 182 190 352 361 369 377 386 446 454 462\n",
      " 471 479]\n",
      "[ 64 157 352 446]\n",
      "[8.25 8.25 8.5  8.25]\n"
     ]
    }
   ],
   "source": [
    "import cv2\n",
    "import numpy as np\n",
    "\n",
    "img = cv2.imread('E:\\Admin\\Desktop\\ode_to_joy.jpg',0)\n",
    "height, width = img.shape[:2]\n",
    "\n",
    "\"\"\"Resizing image\"\"\"\n",
    "img_res = cv2.resize(img,(int(0.5*width), int(0.5*height)))#, interpolation = cv.INTER_CUBIC)\n",
    "\n",
    "\n",
    "#cv2.imshow('img_resize', img_res)\n",
    "\"\"\"Otsu Binarisation\"\"\"\n",
    "ret2,th2 = cv2.threshold(img_res,0,255,cv2.THRESH_BINARY+cv2.THRESH_OTSU)\n",
    "print('ret2', ret2)\n",
    "#cv2.imshow('thresh', th2)\n",
    "\n",
    "\"\"\"Canny Edge Detection\"\"\"\n",
    "edges = cv2.Canny(th2,50,150,apertureSize = 3)\n",
    "\n",
    "\"\"\"Erosion - to get only the horizontal lines\n",
    "    Subtract erosion from edges to remove the staff lines\"\"\"\n",
    "kernel = np.ones((1,5), np.uint8)\n",
    "\n",
    "erosion = cv2.erode(edges, kernel, iterations = 1)\n",
    "cv2.imshow('erosion', erosion)\n",
    "\n",
    "result = cv2.subtract(edges, erosion)\n",
    "cv2.imshow('result', result)\n",
    "\n",
    "\"\"\"To find the y-values of staff lines\"\"\"\n",
    "sum_rows = np.sum(erosion, axis=1)\n",
    "max_sum = np.amax(sum_rows)\n",
    "\n",
    "ind = np.where(sum_rows > 0.7 * max_sum)\n",
    "new_ind = ind[0][::2] + 1  ## contains y-values of staff lines\n",
    "\n",
    "ref_ind = new_ind[::5] ## Reference value for each set of 5 staff lines\n",
    "ref_ind2 = new_ind[4::5]\n",
    "\n",
    "spacing = (ref_ind2 - ref_ind)/4 ## Spacing bw 2 staff lines\n",
    "\"\"\"\"\"\"\n",
    "\n",
    "\n",
    "cv2.imwrite('E:\\Admin\\Desktop\\erosion.jpg', erosion)\n",
    "cv2.imwrite('E:\\Admin\\Desktop\\edges.jpg', edges)\n",
    "cv2.imwrite('E:\\Admin\\Desktop\\result.jpg', result)\n",
    "\n",
    "min_line_len = 100\n",
    "max_line_gap = 20\n",
    "\n",
    "cv2.waitKey(0)\n",
    "cv2.destroyAllWindows()"
   ]
  },
  {
   "cell_type": "code",
   "execution_count": 20,
   "metadata": {},
   "outputs": [
    {
     "name": "stdout",
     "output_type": "stream",
     "text": [
      "540\n"
     ]
    }
   ],
   "source": [
    "print(len(erosion))"
   ]
  },
  {
   "cell_type": "code",
   "execution_count": null,
   "metadata": {},
   "outputs": [],
   "source": []
  }
 ],
 "metadata": {
  "kernelspec": {
   "display_name": "Python 3",
   "language": "python",
   "name": "python3"
  },
  "language_info": {
   "codemirror_mode": {
    "name": "ipython",
    "version": 3
   },
   "file_extension": ".py",
   "mimetype": "text/x-python",
   "name": "python",
   "nbconvert_exporter": "python",
   "pygments_lexer": "ipython3",
   "version": "3.5.5"
  }
 },
 "nbformat": 4,
 "nbformat_minor": 2
}
