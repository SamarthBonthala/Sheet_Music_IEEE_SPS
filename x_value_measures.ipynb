{
 "cells": [
  {
   "cell_type": "code",
   "execution_count": 112,
   "metadata": {},
   "outputs": [
    {
     "name": "stdout",
     "output_type": "stream",
     "text": [
      "ret2 160.0\n",
      "[ 64 352]\n",
      "[190 479]\n",
      "[31875, 32130]\n",
      "32130\n",
      "[(array([ 91,  93, 303, 305, 462, 622, 624, 769, 929, 931], dtype=int64),), (array([ 80, 277, 279, 439, 590, 592, 752, 754, 890, 892, 929, 931],\n",
      "      dtype=int64),)]\n"
     ]
    }
   ],
   "source": [
    "import cv2\n",
    "import numpy as np\n",
    "\n",
    "img = cv2.imread('C:/Users/Sahith/Desktop/IEEE Sheet Vision/ode_to_joy.jpg',0)\n",
    "height, width = img.shape[:2]\n",
    "\n",
    "\"\"\"Resizing image\"\"\"\n",
    "img_res = cv2.resize(img,(int(0.5*width), int(0.5*height)))#, interpolation = cv.INTER_CUBIC)\n",
    "\n",
    "\n",
    "#cv2.imshow('img_resize', img_res)\n",
    "\"\"\"Otsu Binarisation\"\"\"\n",
    "ret2,th2 = cv2.threshold(img_res,0,255,cv2.THRESH_BINARY+cv2.THRESH_OTSU)\n",
    "print('ret2', ret2)\n",
    "#cv2.imshow('thresh', th2)\n",
    "\n",
    "\"\"\"Canny Edge Detection\"\"\"\n",
    "edges = cv2.Canny(th2,50,150,apertureSize = 3)\n",
    "\n",
    "\"\"\"Erosion - to get only the horizontal lines\n",
    "    Subtract erosion from edges to remove the staff lines\"\"\"\n",
    "kernel = np.ones((1,5), np.uint8)\n",
    "\n",
    "erosion = cv2.erode(edges, kernel, iterations = 1)\n",
    "cv2.imshow('erosion', erosion)\n",
    "\n",
    "result = cv2.subtract(edges, erosion)\n",
    "cv2.imshow('result', result)\n",
    "\n",
    "\"\"\"To find the y-values of staff lines\"\"\"\n",
    "sum_rows = np.sum(erosion, axis=1)\n",
    "max_sum = np.amax(sum_rows)\n",
    "\n",
    "ind = np.where(sum_rows > 0.7 * max_sum)\n",
    "new_ind = ind[0][::2] + 1  ## contains y-values of staff lines\n",
    "\n",
    "ref_ind = new_ind[::5] ## Reference value for each set of 5 staff lines\n",
    "ref_ind2 = new_ind[4::5]\n",
    "\n",
    "spacing = (ref_ind2 - ref_ind)/4 ## Spacing bw 2 staff lines\n",
    "\"\"\"\"\"\"\n",
    "\n",
    "min_line_len = 100\n",
    "max_line_gap = 20\n",
    "\n",
    "cv2.waitKey(0)\n",
    "cv2.destroyAllWindows()\n",
    "\n",
    "l2, w2 = img_res.shape[:2]\n",
    "\n",
    "ind_t = ref_ind[::2] ##to get upper limits of the measures\n",
    "print(ind_t)\n",
    "ind_l = ref_ind2[1::2]  ##to get lower limits of the measures\n",
    "print(ind_l)\n",
    "l =  len(ind_t)\n",
    "l2 = len(ind_l)\n",
    "sum_matrix = [0 for x in range(w2) for y in range(l)] #matrix to store the vertical sum\n",
    "for i in range (l2):\n",
    "    sum_matrix[i] = np.sum(result[ind_t[i]:ind_l[i], :w2], axis = 0)\n",
    "max_col = []\n",
    "for i in range(l2):\n",
    "    max_col.append(np.max(sum_matrix[i]))\n",
    "print(max_col)\n",
    "print(max_col[1])\n",
    "ref_ind3 = [[] for x in range(l)]  ##matrix to store x_values of measures.\n",
    "for j in range(0,l):\n",
    "    ref_ind3[j] = np.where(matrix[j] > 0.5*max_col[j])\n",
    "print(ref_ind3)\n"
   ]
  },
  {
   "cell_type": "code",
   "execution_count": null,
   "metadata": {},
   "outputs": [],
   "source": []
  }
 ],
 "metadata": {
  "kernelspec": {
   "display_name": "Python 3",
   "language": "python",
   "name": "python3"
  },
  "language_info": {
   "codemirror_mode": {
    "name": "ipython",
    "version": 3
   },
   "file_extension": ".py",
   "mimetype": "text/x-python",
   "name": "python",
   "nbconvert_exporter": "python",
   "pygments_lexer": "ipython3",
   "version": "3.7.0"
  }
 },
 "nbformat": 4,
 "nbformat_minor": 2
}
